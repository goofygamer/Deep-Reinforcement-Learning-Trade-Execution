{
 "cells": [
  {
   "cell_type": "code",
   "execution_count": 1,
   "metadata": {},
   "outputs": [],
   "source": [
    "import gymnasium as gym\n",
    "from gymnasium import spaces\n",
    "import pandas as pd\n",
    "import numpy as np\n",
    "from stable_baselines3.common.env_checker import check_env\n",
    "from execution_env import ExecutionEnv"
   ]
  },
  {
   "cell_type": "markdown",
   "metadata": {},
   "source": [
    "## 1. Testing the environment"
   ]
  },
  {
   "cell_type": "markdown",
   "metadata": {},
   "source": [
    "### a. Importing the data"
   ]
  },
  {
   "cell_type": "code",
   "execution_count": 2,
   "metadata": {},
   "outputs": [
    {
     "data": {
      "text/html": [
       "<div>\n",
       "<style scoped>\n",
       "    .dataframe tbody tr th:only-of-type {\n",
       "        vertical-align: middle;\n",
       "    }\n",
       "\n",
       "    .dataframe tbody tr th {\n",
       "        vertical-align: top;\n",
       "    }\n",
       "\n",
       "    .dataframe thead th {\n",
       "        text-align: right;\n",
       "    }\n",
       "</style>\n",
       "<table border=\"1\" class=\"dataframe\">\n",
       "  <thead>\n",
       "    <tr style=\"text-align: right;\">\n",
       "      <th></th>\n",
       "      <th>close</th>\n",
       "      <th>high</th>\n",
       "      <th>low</th>\n",
       "      <th>trade_count</th>\n",
       "      <th>open</th>\n",
       "      <th>volume</th>\n",
       "      <th>vwap</th>\n",
       "      <th>symbol</th>\n",
       "    </tr>\n",
       "    <tr>\n",
       "      <th>timestamp</th>\n",
       "      <th></th>\n",
       "      <th></th>\n",
       "      <th></th>\n",
       "      <th></th>\n",
       "      <th></th>\n",
       "      <th></th>\n",
       "      <th></th>\n",
       "      <th></th>\n",
       "    </tr>\n",
       "  </thead>\n",
       "  <tbody>\n",
       "    <tr>\n",
       "      <th>2023-05-01 00:00:00+00:00</th>\n",
       "      <td>29286.999650</td>\n",
       "      <td>29290.19000</td>\n",
       "      <td>29222.080000</td>\n",
       "      <td>286</td>\n",
       "      <td>29260.73</td>\n",
       "      <td>19.62345</td>\n",
       "      <td>29263.335504</td>\n",
       "      <td>BTC/USD</td>\n",
       "    </tr>\n",
       "    <tr>\n",
       "      <th>2023-05-01 00:01:00+00:00</th>\n",
       "      <td>29292.210905</td>\n",
       "      <td>29326.33362</td>\n",
       "      <td>29282.474943</td>\n",
       "      <td>163</td>\n",
       "      <td>29285.21</td>\n",
       "      <td>14.78774</td>\n",
       "      <td>29302.234990</td>\n",
       "      <td>BTC/USD</td>\n",
       "    </tr>\n",
       "    <tr>\n",
       "      <th>2023-05-01 00:02:00+00:00</th>\n",
       "      <td>29255.232775</td>\n",
       "      <td>29298.44000</td>\n",
       "      <td>29243.000000</td>\n",
       "      <td>240</td>\n",
       "      <td>29298.44</td>\n",
       "      <td>13.31829</td>\n",
       "      <td>29267.462058</td>\n",
       "      <td>BTC/USD</td>\n",
       "    </tr>\n",
       "    <tr>\n",
       "      <th>2023-05-01 00:03:00+00:00</th>\n",
       "      <td>29290.061000</td>\n",
       "      <td>29294.24000</td>\n",
       "      <td>29243.220000</td>\n",
       "      <td>76</td>\n",
       "      <td>29245.40</td>\n",
       "      <td>3.84511</td>\n",
       "      <td>29270.874708</td>\n",
       "      <td>BTC/USD</td>\n",
       "    </tr>\n",
       "    <tr>\n",
       "      <th>2023-05-01 00:04:00+00:00</th>\n",
       "      <td>29320.109138</td>\n",
       "      <td>29327.48500</td>\n",
       "      <td>29288.145850</td>\n",
       "      <td>155</td>\n",
       "      <td>29296.85</td>\n",
       "      <td>10.03054</td>\n",
       "      <td>29308.483835</td>\n",
       "      <td>BTC/USD</td>\n",
       "    </tr>\n",
       "  </tbody>\n",
       "</table>\n",
       "</div>"
      ],
      "text/plain": [
       "                                  close         high           low  \\\n",
       "timestamp                                                            \n",
       "2023-05-01 00:00:00+00:00  29286.999650  29290.19000  29222.080000   \n",
       "2023-05-01 00:01:00+00:00  29292.210905  29326.33362  29282.474943   \n",
       "2023-05-01 00:02:00+00:00  29255.232775  29298.44000  29243.000000   \n",
       "2023-05-01 00:03:00+00:00  29290.061000  29294.24000  29243.220000   \n",
       "2023-05-01 00:04:00+00:00  29320.109138  29327.48500  29288.145850   \n",
       "\n",
       "                           trade_count      open    volume          vwap  \\\n",
       "timestamp                                                                  \n",
       "2023-05-01 00:00:00+00:00          286  29260.73  19.62345  29263.335504   \n",
       "2023-05-01 00:01:00+00:00          163  29285.21  14.78774  29302.234990   \n",
       "2023-05-01 00:02:00+00:00          240  29298.44  13.31829  29267.462058   \n",
       "2023-05-01 00:03:00+00:00           76  29245.40   3.84511  29270.874708   \n",
       "2023-05-01 00:04:00+00:00          155  29296.85  10.03054  29308.483835   \n",
       "\n",
       "                            symbol  \n",
       "timestamp                           \n",
       "2023-05-01 00:00:00+00:00  BTC/USD  \n",
       "2023-05-01 00:01:00+00:00  BTC/USD  \n",
       "2023-05-01 00:02:00+00:00  BTC/USD  \n",
       "2023-05-01 00:03:00+00:00  BTC/USD  \n",
       "2023-05-01 00:04:00+00:00  BTC/USD  "
      ]
     },
     "execution_count": 2,
     "metadata": {},
     "output_type": "execute_result"
    }
   ],
   "source": [
    "local_file_path = 'data/btc_us_1min_bars_2023-05-01_to_2023-05-31.csv'\n",
    "df = pd.read_csv(local_file_path, index_col='timestamp', parse_dates=True)\n",
    "df.head()"
   ]
  },
  {
   "cell_type": "markdown",
   "metadata": {},
   "source": [
    "## 2. Instantiate and test the environment "
   ]
  },
  {
   "cell_type": "code",
   "execution_count": 3,
   "metadata": {},
   "outputs": [],
   "source": [
    "env = ExecutionEnv(df=df, initial_inventory=50, trade_horizon=60)"
   ]
  },
  {
   "cell_type": "code",
   "execution_count": 4,
   "metadata": {},
   "outputs": [
    {
     "name": "stdout",
     "output_type": "stream",
     "text": [
      "--- Checking environment with Stable Baselines checker ---\n",
      "--- Environment check passed! ---\n"
     ]
    },
    {
     "name": "stderr",
     "output_type": "stream",
     "text": [
      "/Users/sankalpyadav/Library/Python/3.9/lib/python/site-packages/stable_baselines3/common/env_checker.py:462: UserWarning: We recommend you to use a symmetric and normalized Box action space (range=[-1, 1]) cf. https://stable-baselines3.readthedocs.io/en/master/guide/rl_tips.html\n",
      "  warnings.warn(\n"
     ]
    }
   ],
   "source": [
    "# Check the environment using the stable-baselines3 checker\n",
    "# This will raise an error if the environment doesn't follow the Gymnasium API\n",
    "print(\"--- Checking environment with Stable Baselines checker ---\")\n",
    "check_env(env)\n",
    "print(\"--- Environment check passed! ---\")"
   ]
  },
  {
   "cell_type": "markdown",
   "metadata": {},
   "source": [
    "## 3. Running a simple test loop with a random agent"
   ]
  },
  {
   "cell_type": "code",
   "execution_count": 5,
   "metadata": {},
   "outputs": [
    {
     "name": "stdout",
     "output_type": "stream",
     "text": [
      "--- Running a test episode with a random agent ---\n",
      "Step: 0, Inv: 50.00, Cash: $0.00\n",
      "Step: 1, Inv: 18.06, Cash: $405,924.69\n",
      "Step: 2, Inv: 3.43, Cash: $737,356.44\n",
      "Step: 3, Inv: 1.04, Cash: $799,513.38\n",
      "Step: 4, Inv: 0.48, Cash: $814,270.22\n",
      "Step: 5, Inv: 0.05, Cash: $824,847.28\n",
      "Step: 6, Inv: 0.02, Cash: $825,646.40\n",
      "Step: 7, Inv: 0.02, Cash: $825,713.66\n",
      "Step: 8, Inv: 0.02, Cash: $825,735.76\n",
      "Step: 9, Inv: 0.01, Cash: $826,025.49\n",
      "Step: 10, Inv: 0.00, Cash: $826,158.32\n",
      "Step: 11, Inv: 0.00, Cash: $826,159.22\n",
      "Step: 12, Inv: 0.00, Cash: $826,169.02\n",
      "Step: 13, Inv: 0.00, Cash: $826,174.31\n",
      "Step: 14, Inv: 0.00, Cash: $826,175.36\n",
      "Step: 15, Inv: 0.00, Cash: $826,176.06\n",
      "Step: 16, Inv: 0.00, Cash: $826,176.08\n",
      "Step: 17, Inv: 0.00, Cash: $826,176.08\n",
      "Step: 18, Inv: 0.00, Cash: $826,176.08\n",
      "Step: 19, Inv: 0.00, Cash: $826,176.08\n",
      "Step: 20, Inv: 0.00, Cash: $826,176.08\n",
      "Step: 21, Inv: 0.00, Cash: $826,176.08\n",
      "Step: 22, Inv: 0.00, Cash: $826,176.08\n",
      "Step: 23, Inv: 0.00, Cash: $826,176.08\n",
      "Step: 24, Inv: 0.00, Cash: $826,176.08\n",
      "Step: 25, Inv: 0.00, Cash: $826,176.08\n",
      "Step: 26, Inv: 0.00, Cash: $826,176.08\n",
      "Step: 27, Inv: 0.00, Cash: $826,176.08\n",
      "Step: 28, Inv: 0.00, Cash: $826,176.08\n",
      "Step: 29, Inv: 0.00, Cash: $826,176.08\n",
      "Step: 30, Inv: 0.00, Cash: $826,176.08\n",
      "Step: 31, Inv: 0.00, Cash: $826,176.08\n",
      "Step: 32, Inv: 0.00, Cash: $826,176.08\n",
      "Step: 33, Inv: 0.00, Cash: $826,176.08\n",
      "Step: 34, Inv: 0.00, Cash: $826,176.08\n",
      "Step: 35, Inv: 0.00, Cash: $826,176.08\n",
      "Step: 36, Inv: 0.00, Cash: $826,176.08\n",
      "Step: 37, Inv: 0.00, Cash: $826,176.08\n",
      "Step: 38, Inv: 0.00, Cash: $826,176.08\n",
      "Step: 39, Inv: 0.00, Cash: $826,176.08\n",
      "Step: 40, Inv: 0.00, Cash: $826,176.08\n",
      "Step: 41, Inv: 0.00, Cash: $826,176.08\n",
      "Step: 42, Inv: 0.00, Cash: $826,176.08\n",
      "Step: 43, Inv: 0.00, Cash: $826,176.08\n",
      "Step: 44, Inv: 0.00, Cash: $826,176.08\n",
      "Step: 45, Inv: 0.00, Cash: $826,176.08\n",
      "Step: 46, Inv: 0.00, Cash: $826,176.08\n",
      "Step: 47, Inv: 0.00, Cash: $826,176.08\n",
      "Step: 48, Inv: 0.00, Cash: $826,176.08\n",
      "Step: 49, Inv: 0.00, Cash: $826,176.08\n",
      "Step: 50, Inv: 0.00, Cash: $826,176.08\n",
      "Step: 51, Inv: 0.00, Cash: $826,176.08\n",
      "Step: 52, Inv: 0.00, Cash: $826,176.08\n",
      "Step: 53, Inv: 0.00, Cash: $826,176.08\n",
      "Step: 54, Inv: 0.00, Cash: $826,176.08\n",
      "Step: 55, Inv: 0.00, Cash: $826,176.08\n",
      "Step: 56, Inv: 0.00, Cash: $826,176.08\n",
      "Step: 57, Inv: 0.00, Cash: $826,176.08\n",
      "Step: 58, Inv: 0.00, Cash: $826,176.08\n",
      "Step: 59, Inv: 0.00, Cash: $826,176.08\n",
      "Step: 60, Inv: 0.00, Cash: $826,176.08\n",
      "\n",
      "--- Episode Finished ---\n",
      "Initial Value: $1,395,098.06\n",
      "Final Cash Received: $826,176.08\n",
      "Implementation Shortfall: $568,921.98\n",
      "Average Execution Price: $16,523.52\n",
      "Benchmark Arrival Price: $27,901.96\n"
     ]
    }
   ],
   "source": [
    "print(\"--- Running a test episode with a random agent ---\")\n",
    "episodes = 1\n",
    "for ep in range(episodes):\n",
    "    obs, info = env.reset()\n",
    "    done = False\n",
    "    step = 0\n",
    "    while not done:\n",
    "        env.render()\n",
    "        random_action = env.action_space.sample() # The agent picks a random action\n",
    "        obs, reward, terminated, truncated, info = env.step(random_action)\n",
    "        done = terminated or truncated\n",
    "        step += 1\n",
    "    env.render() # Render final state\n",
    "    \n",
    "    # Calculate final performance\n",
    "    initial_value = env.initial_inventory * df.iloc[env.start_tick]['close']\n",
    "    implementation_shortfall = initial_value - info['total_cash_received']\n",
    "    \n",
    "    print(\"\\n--- Episode Finished ---\")\n",
    "    print(f\"Initial Value: ${initial_value:,.2f}\")\n",
    "    print(f\"Final Cash Received: ${info['total_cash_received']:,.2f}\")\n",
    "    print(f\"Implementation Shortfall: ${implementation_shortfall:,.2f}\")\n",
    "    print(f\"Average Execution Price: ${info['total_cash_received'] / env.initial_inventory:,.2f}\")\n",
    "    print(f\"Benchmark Arrival Price: ${df.iloc[env.start_tick]['close']:,.2f}\")"
   ]
  },
  {
   "cell_type": "code",
   "execution_count": null,
   "metadata": {},
   "outputs": [],
   "source": []
  }
 ],
 "metadata": {
  "kernelspec": {
   "display_name": "Python 3",
   "language": "python",
   "name": "python3"
  },
  "language_info": {
   "codemirror_mode": {
    "name": "ipython",
    "version": 3
   },
   "file_extension": ".py",
   "mimetype": "text/x-python",
   "name": "python",
   "nbconvert_exporter": "python",
   "pygments_lexer": "ipython3",
   "version": "3.9.6"
  }
 },
 "nbformat": 4,
 "nbformat_minor": 2
}
